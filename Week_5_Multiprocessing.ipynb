{
 "cells": [
  {
   "cell_type": "markdown",
   "id": "18433b4a-093b-4894-8dbf-7da223b68f37",
   "metadata": {},
   "source": [
    "# Q1. What is multiprocessing in python? Why is it useful?"
   ]
  },
  {
   "cell_type": "markdown",
   "id": "ba294c9e-a683-4994-b86d-c11e4f4f14d5",
   "metadata": {},
   "source": [
    "When a system supports more than one processor at the same time, it is called Multiprocessing. In multiprocessing, applications are broken into smaller routines that run independently. The operating system allocates these threads to the processors, thus improving the system's efficiency."
   ]
  },
  {
   "cell_type": "markdown",
   "id": "94ed58f5-3259-48ae-a55b-90f874a3ea7e",
   "metadata": {},
   "source": [
    "Multiprocessing is useful because it provides parallelism. Since the process is divided and given to multiple processors, each processor can work independently. This overcomes the drawback of multithreading- Context Switch Overhead but it is not economical because the resources are no longer shared."
   ]
  },
  {
   "cell_type": "markdown",
   "id": "83ddb5f2-15e3-49fd-bb9d-5a7909bf327e",
   "metadata": {},
   "source": [
    "# Q2. What are the differences between multiprocessing and multithreading?"
   ]
  },
  {
   "cell_type": "markdown",
   "id": "9b3328af-3539-48b2-b7c9-c11d2aa89cc6",
   "metadata": {},
   "source": [
    "## Multiprocessing:"
   ]
  },
  {
   "cell_type": "markdown",
   "id": "87f1ff39-29c2-4e41-a56e-6021f782830c",
   "metadata": {},
   "source": [
    "1. Allows execution of multiple processes concurrently.\n",
    "2. Process creation is slow and resource-specific.\n",
    "3. Two types: Symmetric and Asymmetric.\n",
    "4. Allows execution of multiple programs and tasks."
   ]
  },
  {
   "cell_type": "markdown",
   "id": "7ec9ddd1-e1cd-46d4-b617-8052966b6478",
   "metadata": {},
   "source": [
    "## Multithreading:"
   ]
  },
  {
   "cell_type": "markdown",
   "id": "c23eb64a-6ed6-4e94-97c1-109abae03ffc",
   "metadata": {},
   "source": [
    "1. Threads of a single process execute concurrently.\n",
    "2. Thread creation is time and resource economical.\n",
    "3. No classification.\n",
    "4. Execute multiple threads of the same/different processes."
   ]
  },
  {
   "cell_type": "markdown",
   "id": "2f6b488f-2f6e-41a7-937b-cecbc65c903d",
   "metadata": {},
   "source": [
    "# Q3. Write a python code to create a process using the multiprocessing module."
   ]
  },
  {
   "cell_type": "code",
   "execution_count": 1,
   "id": "f0733e88-9356-473e-8438-77079e485943",
   "metadata": {},
   "outputs": [
    {
     "name": "stdout",
     "output_type": "stream",
     "text": [
      "Main Process.\n",
      "Test Process.\n"
     ]
    }
   ],
   "source": [
    "import multiprocessing\n",
    "def test():\n",
    "    print(\"Test Process.\")\n",
    "if __name__=='__main__':\n",
    "    m=multiprocessing.Process(target=test)\n",
    "    print(\"Main Process.\")\n",
    "    m.start()\n",
    "    m.join()"
   ]
  },
  {
   "cell_type": "markdown",
   "id": "042f03ee-8315-4bf9-90da-1b20e8c3b10b",
   "metadata": {
    "tags": []
   },
   "source": [
    "# Q4. What is a multiprocessing pool in python? Why is it used?"
   ]
  },
  {
   "cell_type": "markdown",
   "id": "4b04e305-988d-4b2c-82e6-d2fc432310c8",
   "metadata": {},
   "source": [
    "A process pool is a programming pattern for automatically managing a pool of worker processes. The multiprocessing.Pool() method provides a process pool in python>"
   ]
  },
  {
   "cell_type": "markdown",
   "id": "342ebe04-e3e4-47b0-a318-2315b4ef9328",
   "metadata": {},
   "source": [
    "It is used because:\n",
    "1. It controls when processes are created, such as when they are needed.\n",
    "2. It also controls what they should do when they are not being used, such as making them wait without consuming computational resources."
   ]
  },
  {
   "cell_type": "markdown",
   "id": "2bae859b-01c7-4805-b8e0-9adda2981c4f",
   "metadata": {},
   "source": [
    "# Q5. How can we create a pool of worker processes in python using the multiprocessing module?"
   ]
  },
  {
   "cell_type": "code",
   "execution_count": 11,
   "id": "e77070da-1f71-4333-880e-6442e167f362",
   "metadata": {},
   "outputs": [
    {
     "name": "stdout",
     "output_type": "stream",
     "text": [
      "[1, 4, 9, 16, 25, 36, 49, 64, 81, 100]\n"
     ]
    }
   ],
   "source": [
    "import multiprocessing\n",
    "def power(n):\n",
    "    return n**2\n",
    "if __name__=='__main__':\n",
    "    with multiprocessing.Pool(processes=2) as pool:\n",
    "        out=pool.map(power,[1,2,3,4,5,6,7,8,9,10])\n",
    "        print(out)"
   ]
  },
  {
   "cell_type": "markdown",
   "id": "9c846c4a-ae42-4dfb-8b59-fd43382702f2",
   "metadata": {},
   "source": [
    "# Q6. Write a python program to create 4 processes, each process should print a different number using the multiprocessing module in python."
   ]
  },
  {
   "cell_type": "code",
   "execution_count": 13,
   "id": "111ad5b6-7620-4949-b5e1-8c522947a12d",
   "metadata": {},
   "outputs": [
    {
     "name": "stdout",
     "output_type": "stream",
     "text": [
      "[1, 2, 3, 4]\n"
     ]
    }
   ],
   "source": [
    "import multiprocessing\n",
    "def show(n):\n",
    "    return n\n",
    "if __name__=='__main__':\n",
    "    with multiprocessing.Pool(processes=4) as pool:\n",
    "        out=pool.map(show,[1,2,3,4])\n",
    "        print(out)"
   ]
  }
 ],
 "metadata": {
  "kernelspec": {
   "display_name": "Python 3 (ipykernel)",
   "language": "python",
   "name": "python3"
  },
  "language_info": {
   "codemirror_mode": {
    "name": "ipython",
    "version": 3
   },
   "file_extension": ".py",
   "mimetype": "text/x-python",
   "name": "python",
   "nbconvert_exporter": "python",
   "pygments_lexer": "ipython3",
   "version": "3.10.8"
  }
 },
 "nbformat": 4,
 "nbformat_minor": 5
}

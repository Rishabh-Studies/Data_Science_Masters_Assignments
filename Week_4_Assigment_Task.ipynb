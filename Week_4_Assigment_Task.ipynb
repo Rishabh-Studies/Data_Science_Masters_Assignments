{
 "cells": [
  {
   "cell_type": "markdown",
   "id": "a883c295-9074-4b14-b0be-3528bc791f77",
   "metadata": {},
   "source": [
    "# Q1. Create a vehicle class with an init method having instance variables as name_of_vehicle, max_speed and average_of_vehicle."
   ]
  },
  {
   "cell_type": "code",
   "execution_count": 13,
   "id": "72a87046-82f5-4105-9b35-68925e701140",
   "metadata": {},
   "outputs": [],
   "source": [
    "class vehicle:\n",
    "    def __init__(self,name_of_vehicle,max_speed=120,average_of_vehicle=45):\n",
    "        self.name_of_vehicle=name_of_vehicle\n",
    "        self.max_speed=max_speed\n",
    "        self.average_of_vehicle=average_of_vehicle"
   ]
  },
  {
   "cell_type": "markdown",
   "id": "871651ea-de6f-4396-a5ac-cfa8d8933672",
   "metadata": {},
   "source": [
    "# Q2. Create a child class car from the vehicle class created in Que 1, which will inherit the vehicle class. Create a method named seating_capacity which takes capacity as an argument and returns the name of the vehicle and its seating capacity."
   ]
  },
  {
   "cell_type": "code",
   "execution_count": 24,
   "id": "7df483bc-9fb2-4cfd-989c-4b7f00f4e32d",
   "metadata": {},
   "outputs": [
    {
     "data": {
      "text/plain": [
       "('BMW 5', 5)"
      ]
     },
     "execution_count": 24,
     "metadata": {},
     "output_type": "execute_result"
    }
   ],
   "source": [
    "class car(vehicle):\n",
    "    def __init__(self,name_of_vehicle):\n",
    "        self.name_of_vehicle=name_of_vehicle\n",
    "        vehicle.__init__(self,name_of_vehicle=self.name_of_vehicle)\n",
    "    def seating_capacity(self,capacity):\n",
    "        return self.name_of_vehicle, capacity    \n",
    "BMW=car('BMW 5')\n",
    "BMW.seating_capacity(5)"
   ]
  },
  {
   "cell_type": "markdown",
   "id": "37a897c0-a9de-45e5-a6e2-0872b12c1722",
   "metadata": {},
   "source": [
    "# Q3. What is multiple inheritance? Write a python code to demonstrate multiple inheritance."
   ]
  },
  {
   "cell_type": "markdown",
   "id": "662e3cc1-4504-4713-bf16-47b41902ce28",
   "metadata": {},
   "source": [
    "Multiple inheritance is the type of inheritance in which a child class inherits from more than 1 parent class.\n",
    "\n",
    "Code:"
   ]
  },
  {
   "cell_type": "code",
   "execution_count": 25,
   "id": "f1922f51-3e74-4c7d-8634-13f316963d0c",
   "metadata": {},
   "outputs": [
    {
     "name": "stdout",
     "output_type": "stream",
     "text": [
      "Father's genes\n",
      "Mother's genes\n"
     ]
    }
   ],
   "source": [
    "class father:\n",
    "    def func1(self):\n",
    "        print('Father\\'s genes')\n",
    "class mother:\n",
    "    def func2(self):\n",
    "        print('Mother\\'s genes')\n",
    "class child(father,mother):\n",
    "    pass\n",
    "obj=child()\n",
    "obj.func1()\n",
    "obj.func2()"
   ]
  },
  {
   "cell_type": "markdown",
   "id": "cb7dd1cd-f494-4ead-ab47-98f699c867f7",
   "metadata": {},
   "source": [
    "# Q4. What are getter and setter in python? Create a class and create a getter and a setter method in this class."
   ]
  },
  {
   "cell_type": "markdown",
   "id": "c57f32ab-77cf-4e54-afa2-a6749db14815",
   "metadata": {},
   "source": [
    "Getter: Getter lets the user access private and protected members of a class with the help of property decorator.\n",
    "\n",
    "Setter: Setter lets the user set or change private and protected members of a class with the help of property decorator.\n",
    "\n",
    "Code:"
   ]
  },
  {
   "cell_type": "code",
   "execution_count": 33,
   "id": "8d14f106-a892-439d-8ce1-37b3467cf124",
   "metadata": {},
   "outputs": [],
   "source": [
    "class test():\n",
    "    def __init__(self,name,age):\n",
    "        self.__name=name\n",
    "        self.__age=age\n",
    "    @property\n",
    "    def information(self):\n",
    "        return self.__name,self.__age\n",
    "    @information.getter\n",
    "    def give_information(self):\n",
    "        print(\"Name:\",self.__name,\"\\nAge:\",self.__age)\n",
    "    @information.setter\n",
    "    def set_information(self,age):\n",
    "        self.__age=age\n",
    "t=test('Rishabh',21)"
   ]
  },
  {
   "cell_type": "code",
   "execution_count": 34,
   "id": "ae778747-08b9-456a-b6d9-a8cb8af93b84",
   "metadata": {},
   "outputs": [
    {
     "name": "stdout",
     "output_type": "stream",
     "text": [
      "Name: Rishabh \n",
      "Age: 21\n"
     ]
    }
   ],
   "source": [
    "t.give_information"
   ]
  },
  {
   "cell_type": "code",
   "execution_count": 36,
   "id": "061d3275-81ca-4947-8ae5-ceefc8e8cf14",
   "metadata": {},
   "outputs": [
    {
     "name": "stdout",
     "output_type": "stream",
     "text": [
      "Name: Rishabh \n",
      "Age: 22\n"
     ]
    }
   ],
   "source": [
    "t.set_information=22\n",
    "t.give_information"
   ]
  },
  {
   "cell_type": "markdown",
   "id": "b5e50d73-ab3a-44b6-ab78-d4e60f7b467b",
   "metadata": {},
   "source": [
    "# Q5. What is method overriding in python? Write a python code to demonstrate method overriding."
   ]
  },
  {
   "cell_type": "markdown",
   "id": "f737bd42-409f-417a-af91-9c8ed62cef75",
   "metadata": {},
   "source": [
    "Method overriding is also called run-time polymorphism. In defination, method overriding is the calling of child class's method when the method called is defined in both parent class as well as child class. The method in parent class gets overridden by the method in child class.\n",
    "\n",
    "Code:"
   ]
  },
  {
   "cell_type": "code",
   "execution_count": 37,
   "id": "c0959338-8044-40b5-9bbe-9ad67c04e386",
   "metadata": {},
   "outputs": [
    {
     "name": "stdout",
     "output_type": "stream",
     "text": [
      "Child Function\n"
     ]
    }
   ],
   "source": [
    "class parent:\n",
    "    def func1(self):\n",
    "        print(\"Parent Function\")\n",
    "class child(parent):\n",
    "    def func1(self):\n",
    "        print(\"Child Function\")\n",
    "obj=child()\n",
    "obj.func1()"
   ]
  }
 ],
 "metadata": {
  "kernelspec": {
   "display_name": "Python 3 (ipykernel)",
   "language": "python",
   "name": "python3"
  },
  "language_info": {
   "codemirror_mode": {
    "name": "ipython",
    "version": 3
   },
   "file_extension": ".py",
   "mimetype": "text/x-python",
   "name": "python",
   "nbconvert_exporter": "python",
   "pygments_lexer": "ipython3",
   "version": "3.10.8"
  }
 },
 "nbformat": 4,
 "nbformat_minor": 5
}

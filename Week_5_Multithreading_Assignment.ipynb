{
 "cells": [
  {
   "cell_type": "markdown",
   "id": "8ef13f63-4b49-4699-9c6f-934a74e27615",
   "metadata": {},
   "source": [
    "# Q1. What is multithreading in python? Why is it used? Name the module used to handle threads in python."
   ]
  },
  {
   "cell_type": "markdown",
   "id": "7a3ff30b-471b-4433-a71d-316ed2faf4ba",
   "metadata": {},
   "source": [
    "Multithreading:\n",
    "\n",
    "A process is divided into smaller processes called threads. These threads are usually independent and make the execution of a process faster. Multithreading refers to the concurrent execution of threads using context switching. Context switching is defined as the assigning of CPU to another process for execution whenever the current executing process is waiting for an event to occur."
   ]
  },
  {
   "cell_type": "code",
   "execution_count": 1,
   "id": "428f5049-40bb-410f-b1ea-23268c3fb865",
   "metadata": {},
   "outputs": [],
   "source": [
    "#Module for handling threads in Python-\n",
    "import threading"
   ]
  },
  {
   "cell_type": "markdown",
   "id": "b4563840-7b77-487f-9bad-f75bc9dde7ae",
   "metadata": {},
   "source": [
    "# Q2. Why threading module is used?"
   ]
  },
  {
   "cell_type": "markdown",
   "id": "09aaed48-b249-4513-b65c-d392f1a824d7",
   "metadata": {},
   "source": [
    "'threading' module is used to create and handle threads in python. We can also simulate context switching using this module with the help of sleep function present in 'time' module."
   ]
  },
  {
   "cell_type": "markdown",
   "id": "862af3ce-ef32-4706-b183-1b062ad1cb45",
   "metadata": {},
   "source": [
    "# Write the use of the following functions:"
   ]
  },
  {
   "cell_type": "markdown",
   "id": "c5f952e3-1ad4-46a0-bd3e-ab2525f8b953",
   "metadata": {},
   "source": [
    "1. activeCount(): Returns the count of currently active/running threads.\n",
    "2. currentThread(): Returns the number of thread objects in the caller's control.\n",
    "3. enumerate(): Returns a list of all thread objects that are currently active."
   ]
  },
  {
   "cell_type": "markdown",
   "id": "e757e597-a12f-42ad-a86e-ba3e8baf3c56",
   "metadata": {},
   "source": [
    "# Q3. Explain the following functions:"
   ]
  },
  {
   "cell_type": "markdown",
   "id": "c47bf202-fb66-41af-84ae-16e634e1bd0c",
   "metadata": {},
   "source": [
    "1. run(): This is the entry point of a thread.\n",
    "2. start(): Starts the thread by calling the run() method.\n",
    "3. join(): Waits for thread to terminate.\n",
    "4. isAlive(): Checks if a threading still active/running."
   ]
  },
  {
   "cell_type": "markdown",
   "id": "27614377-e37b-4f78-9939-f703d710b692",
   "metadata": {},
   "source": [
    "# Q4. Write a python program to create two threads. Thread one must print the list of squares and thread two must print the list of cubes."
   ]
  },
  {
   "cell_type": "code",
   "execution_count": 4,
   "id": "56a893c7-02f0-4cdd-9f8c-5b83e030640b",
   "metadata": {},
   "outputs": [
    {
     "name": "stdout",
     "output_type": "stream",
     "text": [
      "[ 1,4,9,16,25,36,49,64,81,100 ]\n",
      "[ 1,8,27,64,125,216,343,512,729,1000 ]\n"
     ]
    }
   ],
   "source": [
    "import threading\n",
    "def sq(i):\n",
    "    if(i==1):\n",
    "        print('[',i**2,end=\",\")\n",
    "    elif(i==10):\n",
    "        print(i**2,']')\n",
    "    else:\n",
    "        print(i**2,end=',')\n",
    "def cu(i):\n",
    "    if(i==1):\n",
    "        print('[',i**3,end=\",\")\n",
    "    elif(i==10):\n",
    "        print(i**3,']')\n",
    "    else:\n",
    "        print(i**3,end=',')\n",
    "thread1=[threading.Thread(target=sq,args=(i,)) for i in range(1,11)]\n",
    "thread2=[threading.Thread(target=cu,args=(i,)) for i in range(1,11)]\n",
    "for t in thread1:\n",
    "    t.start()\n",
    "for t in thread2:\n",
    "    t.start()"
   ]
  },
  {
   "cell_type": "markdown",
   "id": "03428018-6d01-4efa-80dc-aa64c4a7807b",
   "metadata": {
    "tags": []
   },
   "source": [
    "# Q5. State advantages and disadvantages of multithreading."
   ]
  },
  {
   "cell_type": "markdown",
   "id": "b2b3979f-5720-49a0-b325-06673a363cce",
   "metadata": {},
   "source": [
    "## Advantages:"
   ]
  },
  {
   "cell_type": "markdown",
   "id": "11e217aa-23f5-4b8d-a15c-9fa5618d130d",
   "metadata": {},
   "source": [
    "1. Responsiveness: Program continues to execute even if a section is blocked or undergoing lengthy process.\n",
    "2. Resource Sharing: Threads can execute using the common resources. Thus, resource space is optimized.\n",
    "3. Economy: Since resources are shared, the expensive process of resource allocation is omitted. \n",
    "4. Parallism: Multithreading provides running of threads on multiple processors.\n",
    "5. Minimized System resource Usage."
   ]
  },
  {
   "cell_type": "markdown",
   "id": "5360b65c-dad9-43e7-a162-f00e3ff3a206",
   "metadata": {},
   "source": [
    "## Disadvantages:"
   ]
  },
  {
   "cell_type": "markdown",
   "id": "8fde9601-ff3a-43a0-a5c8-820177e9cece",
   "metadata": {},
   "source": [
    "1. Needs careful Synchronization.\n",
    "2. Blocked threads can consume a large space.\n",
    "3. Needs support for thread or process.\n",
    "4. If a parent process has several threads for proper process functioning, the child processes should also be multithreaded because they may be required.\n",
    "5. It imposes context switching overhead."
   ]
  },
  {
   "cell_type": "markdown",
   "id": "b59da4b7-17cc-426c-bf2a-ed3456722412",
   "metadata": {},
   "source": [
    "# Q6. Explain deadlocks and race conditions."
   ]
  },
  {
   "cell_type": "markdown",
   "id": "033f7fee-c044-4dda-860a-a6119bfd4473",
   "metadata": {},
   "source": [
    "## Deadlock"
   ]
  },
  {
   "cell_type": "markdown",
   "id": "704e270c-2c1e-4a98-87d2-9ec6c067ce47",
   "metadata": {},
   "source": [
    "A deadlock is a situation in which two computer programs sharing the same resource are effectively preventing each other from accessing the resource, resulting in both programs ceasing to function."
   ]
  },
  {
   "cell_type": "markdown",
   "id": "2a98f860-deaf-4e0c-b429-632e9d3da6e4",
   "metadata": {},
   "source": [
    "## Race Conditions"
   ]
  },
  {
   "cell_type": "markdown",
   "id": "e58aaa82-f9e2-4ce2-ad91-8b68a3561198",
   "metadata": {},
   "source": [
    "A most common operational issue with multi-threaded applications, a racing attack is an unwanted situation referring to the incidences when a multithread tool tries to accomplish more than one task at a time. But, the predefined sequencing of that specific program/device will not let it happen as the device/software must follow the default sequence. "
   ]
  },
  {
   "cell_type": "markdown",
   "id": "9e778b49-2b7c-4062-a0f1-e4b541e61d43",
   "metadata": {},
   "source": [
    "4 Types of Race-Condition "
   ]
  },
  {
   "cell_type": "markdown",
   "id": "a114db68-e1d1-4afb-9d0c-58feeb770c39",
   "metadata": {},
   "source": [
    "1. Critical ones will influence the terminating stage of a program or device and force it to modify."
   ]
  },
  {
   "cell_type": "markdown",
   "id": "79156b86-00b1-4dbf-b168-d9546a77ddb2",
   "metadata": {},
   "source": [
    "2. Non-critical ones have no direct impact on the end stage or action of the concerning devices/resources."
   ]
  },
  {
   "cell_type": "markdown",
   "id": "1ab8ccce-bce2-4409-8065-b65c8c993864",
   "metadata": {},
   "source": [
    "3. Read-modify-write: Think of 2 separate tasks that intake the same value and return a new outcome. This type of variety is responsible for software bugs and causes hindrances in operations. "
   ]
  },
  {
   "cell_type": "markdown",
   "id": "e6fd083f-b115-4b80-b805-c45338b1ef37",
   "metadata": {},
   "source": [
    "4. Check-then-act: This situation takes place when two workflows assess a value and will take distinct actions. Both processes will check the value, but only one will proceed with it. The process that will take afterward will accept the value as null, which will lead to an outdated outcome that the program will use to proceed further. "
   ]
  }
 ],
 "metadata": {
  "kernelspec": {
   "display_name": "Python 3 (ipykernel)",
   "language": "python",
   "name": "python3"
  },
  "language_info": {
   "codemirror_mode": {
    "name": "ipython",
    "version": 3
   },
   "file_extension": ".py",
   "mimetype": "text/x-python",
   "name": "python",
   "nbconvert_exporter": "python",
   "pygments_lexer": "ipython3",
   "version": "3.10.8"
  }
 },
 "nbformat": 4,
 "nbformat_minor": 5
}

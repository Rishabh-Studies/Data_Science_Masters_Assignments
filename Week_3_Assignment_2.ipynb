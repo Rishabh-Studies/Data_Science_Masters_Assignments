{
 "cells": [
  {
   "cell_type": "markdown",
   "id": "92f65dc9-9a67-4f1d-adbf-de4ff5de77b4",
   "metadata": {},
   "source": [
    "# Q1. Create a python program to sort the given list of tuples based on integer value using lambda function.      [('Sachin Tendulkar', 34357), ('Ricky Ponting', 27483), ('Jack Kallis', 25534), ('Virat Kohli', 24936)]"
   ]
  },
  {
   "cell_type": "code",
   "execution_count": 48,
   "id": "0ce88faf-9817-4b27-b738-bd67a1562bfd",
   "metadata": {},
   "outputs": [
    {
     "name": "stdout",
     "output_type": "stream",
     "text": [
      "[('Virat Kohli', 24936), ('Jack Kallis', 25534), ('Ricky Ponting', 27483), ('Sachin Tendulkar', 34357)]\n"
     ]
    }
   ],
   "source": [
    "l=[('Sachin Tendulkar',34357),('Ricky Ponting',27483),('Jack Kallis',25534),('Virat Kohli',24936)]\n",
    "l=dict(l)\n",
    "list_maker= lambda x : list(x)\n",
    "s=list_maker(l.values())\n",
    "s.sort()\n",
    "temp={}\n",
    "for i in s:\n",
    "    for j in l:\n",
    "        if l[j]==i:\n",
    "            temp[j]=i\n",
    "l=[(k,v) for k,v in temp.items()]\n",
    "print(l)"
   ]
  },
  {
   "cell_type": "markdown",
   "id": "fb07d121-4d3d-4658-bfd7-52aa76c7a740",
   "metadata": {},
   "source": [
    "# Q2. Write a Python Program to find the squares of all the numbers in the given list of integers using lambda and map functions. [1, 2, 3, 4, 5, 6, 7, 8, 9, 10]"
   ]
  },
  {
   "cell_type": "code",
   "execution_count": 51,
   "id": "3f3774f7-503c-49d8-8059-f43c8de9980b",
   "metadata": {},
   "outputs": [
    {
     "name": "stdout",
     "output_type": "stream",
     "text": [
      "[1, 4, 9, 16, 25, 36, 49, 64, 81, 100]\n"
     ]
    }
   ],
   "source": [
    "l=[x for x in range(1,11)]\n",
    "print(list(map(lambda x: x**2,l)))"
   ]
  },
  {
   "cell_type": "markdown",
   "id": "a2cb7513-8d86-4553-bc4a-abfc0b1970b5",
   "metadata": {},
   "source": [
    "# Q3. Write a python program to convert the given list of integers into a tuple of strings. Use map and lambda functions. Given String: [1, 2, 3, 4, 5, 6, 7, 8, 9, 10] | Expected output: ('1', '2', '3', '4', '5', '6', '7', '8', '9', '10')"
   ]
  },
  {
   "cell_type": "code",
   "execution_count": 52,
   "id": "d3dce95c-02a3-4cb2-a9ad-81274080871d",
   "metadata": {},
   "outputs": [
    {
     "name": "stdout",
     "output_type": "stream",
     "text": [
      "('1', '2', '3', '4', '5', '6', '7', '8', '9', '10')\n"
     ]
    }
   ],
   "source": [
    "l=[x for x in range(1,11)]\n",
    "print(tuple(map(lambda x: str(x),l)))"
   ]
  },
  {
   "cell_type": "markdown",
   "id": "e94878fc-0389-43ca-96cb-df5bee26807c",
   "metadata": {},
   "source": [
    "# Q4. Write a python program using reduce function to compute the product of a list containing numbers from 1 to 25."
   ]
  },
  {
   "cell_type": "code",
   "execution_count": 56,
   "id": "43b041c2-a0c0-4ca7-8ee1-1cf15a766d77",
   "metadata": {},
   "outputs": [
    {
     "name": "stdout",
     "output_type": "stream",
     "text": [
      "15511210043330985984000000\n"
     ]
    }
   ],
   "source": [
    "import functools as f\n",
    "l=[x for x in range(1,26)]\n",
    "print(f.reduce(lambda x,y: x*y,l))"
   ]
  },
  {
   "cell_type": "markdown",
   "id": "1685a470-945a-4dc8-8205-877802def569",
   "metadata": {},
   "source": [
    "# Q5. Write a python program to filter the numbers in a given list that are divisible by 2 and 3 using the filter function. [2, 3, 6, 9, 27, 60, 90, 120, 55, 46]"
   ]
  },
  {
   "cell_type": "code",
   "execution_count": 59,
   "id": "94b4102d-61fc-4fa9-9e85-a85b8e6fa6df",
   "metadata": {},
   "outputs": [
    {
     "name": "stdout",
     "output_type": "stream",
     "text": [
      "[2, 3, 6, 9, 27, 60, 90, 120, 46]\n"
     ]
    }
   ],
   "source": [
    "l=[2,3,6,9,27,60,90,120,55,46]\n",
    "print(list(filter(lambda x: x%2==0 or x%3==0,l)))"
   ]
  },
  {
   "cell_type": "markdown",
   "id": "e7922061-571d-4a25-beaf-aa40b00e0f8c",
   "metadata": {},
   "source": [
    "# Q6. Write a python program to find palindromes in the given list of strings using lambda and filter function.  ['python', 'php', 'aba', 'radar', 'level']"
   ]
  },
  {
   "cell_type": "code",
   "execution_count": 62,
   "id": "e91e15f1-f6d9-475b-abac-9121873b325a",
   "metadata": {},
   "outputs": [
    {
     "name": "stdout",
     "output_type": "stream",
     "text": [
      "['php', 'aba', 'radar', 'level']\n"
     ]
    }
   ],
   "source": [
    "l=['python','php','aba','radar','level']\n",
    "print(list(filter(lambda x: x==x[::-1],l)))"
   ]
  },
  {
   "cell_type": "code",
   "execution_count": null,
   "id": "96d61b84-504d-4880-b672-fa8a416a65a9",
   "metadata": {},
   "outputs": [],
   "source": []
  }
 ],
 "metadata": {
  "kernelspec": {
   "display_name": "Python 3 (ipykernel)",
   "language": "python",
   "name": "python3"
  },
  "language_info": {
   "codemirror_mode": {
    "name": "ipython",
    "version": 3
   },
   "file_extension": ".py",
   "mimetype": "text/x-python",
   "name": "python",
   "nbconvert_exporter": "python",
   "pygments_lexer": "ipython3",
   "version": "3.10.8"
  }
 },
 "nbformat": 4,
 "nbformat_minor": 5
}

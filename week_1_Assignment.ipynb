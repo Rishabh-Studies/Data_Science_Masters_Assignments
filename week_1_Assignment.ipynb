{
 "cells": [
  {
   "cell_type": "markdown",
   "id": "55a71e1c-8eba-4b3e-ba4a-260e77ad6fa2",
   "metadata": {},
   "source": [
    "# Assignment-1"
   ]
  },
  {
   "cell_type": "markdown",
   "id": "598092bc-68d7-4c5d-9f7c-e25ce6d864aa",
   "metadata": {
    "tags": []
   },
   "source": [
    "## Q1. Create one variable containing following type of data:\n",
    "(i) string"
   ]
  },
  {
   "cell_type": "code",
   "execution_count": 1,
   "id": "7bae9200-e241-47cd-825b-ee2ab7828040",
   "metadata": {},
   "outputs": [
    {
     "data": {
      "text/plain": [
       "str"
      ]
     },
     "execution_count": 1,
     "metadata": {},
     "output_type": "execute_result"
    }
   ],
   "source": [
    "val1='Rishabh'\n",
    "type(val1)"
   ]
  },
  {
   "cell_type": "markdown",
   "id": "a863d96e-b3b9-49be-9296-8473b66ffc0c",
   "metadata": {},
   "source": [
    "(ii) list"
   ]
  },
  {
   "cell_type": "code",
   "execution_count": 2,
   "id": "4376023e-4955-4491-98fd-6164ee97f4d4",
   "metadata": {},
   "outputs": [
    {
     "data": {
      "text/plain": [
       "list"
      ]
     },
     "execution_count": 2,
     "metadata": {},
     "output_type": "execute_result"
    }
   ],
   "source": [
    "val2=[1,2.0,'three',True,1+2j]\n",
    "type(val2)"
   ]
  },
  {
   "cell_type": "markdown",
   "id": "8c4d8bd7-9700-4da9-be00-c0a5cceb8c2f",
   "metadata": {},
   "source": [
    "(iii) float"
   ]
  },
  {
   "cell_type": "code",
   "execution_count": 4,
   "id": "7b7e0695-02ed-4c6b-8ea6-7620f942c666",
   "metadata": {},
   "outputs": [
    {
     "data": {
      "text/plain": [
       "float"
      ]
     },
     "execution_count": 4,
     "metadata": {},
     "output_type": "execute_result"
    }
   ],
   "source": [
    "val3=1.02\n",
    "type(val3)"
   ]
  },
  {
   "cell_type": "markdown",
   "id": "7f94263c-cc94-422e-9172-ddb1c7ec795e",
   "metadata": {},
   "source": [
    "(iv) tuple"
   ]
  },
  {
   "cell_type": "code",
   "execution_count": 5,
   "id": "6c6c2dda-69ef-4ae1-ba3c-c02019f56363",
   "metadata": {},
   "outputs": [
    {
     "data": {
      "text/plain": [
       "tuple"
      ]
     },
     "execution_count": 5,
     "metadata": {},
     "output_type": "execute_result"
    }
   ],
   "source": [
    "val4=(1,2,3,4.5)\n",
    "type(val4)"
   ]
  },
  {
   "cell_type": "markdown",
   "id": "98c86540-9859-40f9-b0e8-e4a5b2cf597d",
   "metadata": {},
   "source": [
    "## Q2. Given are some following variables containing data:"
   ]
  },
  {
   "cell_type": "code",
   "execution_count": 6,
   "id": "01cf9fd4-2a7e-49e7-89ab-5d0f8d52c878",
   "metadata": {},
   "outputs": [],
   "source": [
    "var1 = ' '\n",
    "var2 = '[ DS , ML , Python]'\n",
    "var3 = [ 'DS' , 'ML' , 'Python' ]\n",
    "var4 = 1"
   ]
  },
  {
   "cell_type": "markdown",
   "id": "bfa41ca7-6950-4c76-ba4d-4505b2676688",
   "metadata": {},
   "source": [
    "What will be the data type of the above given variable."
   ]
  },
  {
   "cell_type": "code",
   "execution_count": 9,
   "id": "a5b03aca-a351-4a48-a0bd-2c4619b7781a",
   "metadata": {},
   "outputs": [
    {
     "data": {
      "text/plain": [
       "str"
      ]
     },
     "execution_count": 9,
     "metadata": {},
     "output_type": "execute_result"
    }
   ],
   "source": [
    "type(var1)"
   ]
  },
  {
   "cell_type": "code",
   "execution_count": 10,
   "id": "c753f25c-e95a-4dab-a7da-862b9fa7ae74",
   "metadata": {},
   "outputs": [
    {
     "data": {
      "text/plain": [
       "str"
      ]
     },
     "execution_count": 10,
     "metadata": {},
     "output_type": "execute_result"
    }
   ],
   "source": [
    "type(var2)"
   ]
  },
  {
   "cell_type": "code",
   "execution_count": 11,
   "id": "4463e0f3-3494-48c1-a43f-bc0024991680",
   "metadata": {},
   "outputs": [
    {
     "data": {
      "text/plain": [
       "list"
      ]
     },
     "execution_count": 11,
     "metadata": {},
     "output_type": "execute_result"
    }
   ],
   "source": [
    "type(var3)"
   ]
  },
  {
   "cell_type": "code",
   "execution_count": 12,
   "id": "dcb9797b-cb0d-423b-aa5a-8b3810022cc5",
   "metadata": {},
   "outputs": [
    {
     "data": {
      "text/plain": [
       "int"
      ]
     },
     "execution_count": 12,
     "metadata": {},
     "output_type": "execute_result"
    }
   ],
   "source": [
    "type(var4)"
   ]
  },
  {
   "cell_type": "markdown",
   "id": "36bb6513-a5c7-43cd-89af-af800b2a96cb",
   "metadata": {},
   "source": [
    "# Explain the use of the following operators using an example:\n",
    "(i) /\n",
    "    Division Operator.\n",
    "    An arithematic operator used to perform division of two numbers. \n",
    "    Eg:"
   ]
  },
  {
   "cell_type": "code",
   "execution_count": 1,
   "id": "47df20e2-767f-461f-8348-4e1b729e71c8",
   "metadata": {},
   "outputs": [
    {
     "data": {
      "text/plain": [
       "0.5"
      ]
     },
     "execution_count": 1,
     "metadata": {},
     "output_type": "execute_result"
    }
   ],
   "source": [
    "2/4"
   ]
  },
  {
   "cell_type": "markdown",
   "id": "af3df728-5969-4308-a44b-5a9c5123f361",
   "metadata": {},
   "source": [
    "(ii) %\n",
    "    Modulus Operator.\n",
    "    An arithematic operator used to calculate reminder that comes in division of two numbers.\n",
    "    Eg:"
   ]
  },
  {
   "cell_type": "code",
   "execution_count": 2,
   "id": "6826d91b-62e1-4838-aeed-bc1bf26ce25d",
   "metadata": {},
   "outputs": [
    {
     "data": {
      "text/plain": [
       "2"
      ]
     },
     "execution_count": 2,
     "metadata": {},
     "output_type": "execute_result"
    }
   ],
   "source": [
    "2%5"
   ]
  },
  {
   "cell_type": "markdown",
   "id": "624ae67d-46b4-4cbc-a995-8de0e5d39762",
   "metadata": {},
   "source": [
    "(iii) //\n",
    "    Interger Division.\n",
    "    This arithematic operator returns the floor value after dividing two numbers.\n",
    "    Eg:"
   ]
  },
  {
   "cell_type": "code",
   "execution_count": 3,
   "id": "2deb03ab-4e63-4d5d-9442-e1e0b8ce1642",
   "metadata": {},
   "outputs": [
    {
     "data": {
      "text/plain": [
       "0"
      ]
     },
     "execution_count": 3,
     "metadata": {},
     "output_type": "execute_result"
    }
   ],
   "source": [
    "2//4"
   ]
  },
  {
   "cell_type": "markdown",
   "id": "b471ffe0-840a-4fda-b3c4-3dd80c8e1256",
   "metadata": {},
   "source": [
    "(iv) **\n",
    "    Exponential Operator.\n",
    "    This operator raises a number exponentially.\n",
    "    Eg:"
   ]
  },
  {
   "cell_type": "code",
   "execution_count": 4,
   "id": "c86be0a8-e488-407c-b1cd-59e0412f1e9c",
   "metadata": {},
   "outputs": [
    {
     "data": {
      "text/plain": [
       "16"
      ]
     },
     "execution_count": 4,
     "metadata": {},
     "output_type": "execute_result"
    }
   ],
   "source": [
    "2**4"
   ]
  },
  {
   "cell_type": "markdown",
   "id": "35ed59fe-45fb-47d0-b911-eb31f2bf1878",
   "metadata": {},
   "source": [
    "## Q4. Create a list of length 10 of your choice containing multiple types of data. Using for loop print the element and its data type."
   ]
  },
  {
   "cell_type": "code",
   "execution_count": 5,
   "id": "35c3e785-57c4-4801-86f2-8ec52b44e28b",
   "metadata": {},
   "outputs": [
    {
     "name": "stdout",
     "output_type": "stream",
     "text": [
      "Element:1, Type:<class 'int'>\n",
      "Element:2, Type:<class 'int'>\n",
      "Element:Rishabh, Type:<class 'str'>\n",
      "Element:Chandra, Type:<class 'str'>\n",
      "Element:5.5, Type:<class 'float'>\n",
      "Element:6.7, Type:<class 'float'>\n",
      "Element:True, Type:<class 'bool'>\n",
      "Element:False, Type:<class 'bool'>\n",
      "Element:9j, Type:<class 'complex'>\n",
      "Element:(10+10j), Type:<class 'complex'>\n"
     ]
    }
   ],
   "source": [
    "l=[1,2,'Rishabh','Chandra',5.5,6.7,True,False,9j,10+10j]\n",
    "for i in l:\n",
    "    print(f'Element:{i}, Type:{type(i)}')"
   ]
  },
  {
   "cell_type": "markdown",
   "id": "3edeedff-dc67-4d28-8050-f8a137f23dfb",
   "metadata": {},
   "source": [
    "## Q5. Using a while loop, verify if the number A is purely divisible by number B and if so then how many times it can be divisible."
   ]
  },
  {
   "cell_type": "code",
   "execution_count": 7,
   "id": "76a528e3-92e3-44b4-8d53-1162bca17969",
   "metadata": {},
   "outputs": [
    {
     "name": "stdin",
     "output_type": "stream",
     "text": [
      " 64\n"
     ]
    },
    {
     "name": "stdout",
     "output_type": "stream",
     "text": [
      "64 is 2 times divisible by 8.\n"
     ]
    }
   ],
   "source": [
    "A=int(input())\n",
    "if(A%8==0):\n",
    "    x=A\n",
    "    counter=0\n",
    "    while(A%8==0):\n",
    "        counter+=1\n",
    "        A/=8\n",
    "    print(f'{x} is {counter} times divisible by 8.')\n",
    "else:\n",
    "    print(f'{A} is not divisible by 8.')"
   ]
  },
  {
   "cell_type": "markdown",
   "id": "0e6bcdd4-ac1a-4acc-815c-1fe7829199b9",
   "metadata": {},
   "source": [
    "## Q6. Create a list containing 25 int type data. Using for loop and if-else condition print if the element is divisible by 3 or not."
   ]
  },
  {
   "cell_type": "code",
   "execution_count": 8,
   "id": "811cac32-0a62-45eb-89da-86eb17e5b746",
   "metadata": {},
   "outputs": [
    {
     "name": "stdout",
     "output_type": "stream",
     "text": [
      "1 is not divisible by 3.\n",
      "2 is not divisible by 3.\n",
      "3 is divisible by 3.\n",
      "4 is not divisible by 3.\n",
      "5 is not divisible by 3.\n",
      "6 is divisible by 3.\n",
      "7 is not divisible by 3.\n",
      "8 is not divisible by 3.\n",
      "9 is divisible by 3.\n",
      "10 is not divisible by 3.\n",
      "11 is not divisible by 3.\n",
      "12 is divisible by 3.\n",
      "13 is not divisible by 3.\n",
      "14 is not divisible by 3.\n",
      "15 is divisible by 3.\n",
      "16 is not divisible by 3.\n",
      "17 is not divisible by 3.\n",
      "18 is divisible by 3.\n",
      "19 is not divisible by 3.\n",
      "20 is not divisible by 3.\n",
      "21 is divisible by 3.\n",
      "22 is not divisible by 3.\n",
      "23 is not divisible by 3.\n",
      "24 is divisible by 3.\n",
      "25 is not divisible by 3.\n"
     ]
    }
   ],
   "source": [
    "l=[int(x) for x in range(1,26)]\n",
    "for i in l:\n",
    "    if i%3==0:\n",
    "        print(f'{i} is divisible by 3.')\n",
    "    else:\n",
    "        print(f'{i} is not divisible by 3.')"
   ]
  },
  {
   "cell_type": "markdown",
   "id": "de19836d-cae3-4b86-a679-dba7313f52b7",
   "metadata": {},
   "source": [
    "## Q7. What do you understand about mutable and immutable data types? Give examples for both showing this property.\n",
    "Mutable Data Types: Iterables where values can be updated using indices. \n",
    "Eg: Lists."
   ]
  },
  {
   "cell_type": "code",
   "execution_count": 9,
   "id": "d7445d58-bcdd-4ccf-a65c-6f1abe9be6a3",
   "metadata": {},
   "outputs": [
    {
     "name": "stdout",
     "output_type": "stream",
     "text": [
      "5\n",
      "100\n"
     ]
    }
   ],
   "source": [
    "print(l[4])\n",
    "l[4]=100\n",
    "print(l[4])"
   ]
  },
  {
   "cell_type": "markdown",
   "id": "a91175c1-573e-4d7a-a33c-d4e7a822d330",
   "metadata": {},
   "source": [
    "Immutable Data Types: Iterables where values cannot be updated using indices. Instead, the variable is allocated new value instead of updation.\n",
    "Eg: Strings and Tuples."
   ]
  },
  {
   "cell_type": "code",
   "execution_count": null,
   "id": "bd1732fc-fc91-4781-b80b-0ae19e1f745b",
   "metadata": {},
   "outputs": [],
   "source": [
    "s='Rishabh'\n",
    "s[4]=a'a"
   ]
  }
 ],
 "metadata": {
  "kernelspec": {
   "display_name": "Python 3 (ipykernel)",
   "language": "python",
   "name": "python3"
  },
  "language_info": {
   "codemirror_mode": {
    "name": "ipython",
    "version": 3
   },
   "file_extension": ".py",
   "mimetype": "text/x-python",
   "name": "python",
   "nbconvert_exporter": "python",
   "pygments_lexer": "ipython3",
   "version": "3.10.8"
  }
 },
 "nbformat": 4,
 "nbformat_minor": 5
}

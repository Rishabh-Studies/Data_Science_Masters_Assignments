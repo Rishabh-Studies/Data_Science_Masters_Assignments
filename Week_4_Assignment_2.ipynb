{
 "cells": [
  {
   "cell_type": "markdown",
   "id": "3f3f0e95-5b6b-4f23-a984-d8a25816609b",
   "metadata": {},
   "source": [
    "# Q1. What is Abstraction in OOPs? Explain with an example."
   ]
  },
  {
   "cell_type": "markdown",
   "id": "871e3ac6-767b-4fcf-9216-f958e6130fa2",
   "metadata": {},
   "source": [
    "Abstraction is the act of hiding unnecessary information or implementation and displaying only needed features. In OOPs, abstraction is achieved using abstract functions and abstract classes. An abstract class provides a skeleton/scheme for other classes to follow.\n",
    "\n",
    "Eg:"
   ]
  },
  {
   "cell_type": "code",
   "execution_count": 3,
   "id": "48ccec9f-1267-4251-b78e-79aa6fc1c2a1",
   "metadata": {},
   "outputs": [],
   "source": [
    "import abc\n",
    "class interface:\n",
    "    @abc.abstractmethod\n",
    "    def func1(self):\n",
    "        pass\n",
    "    @abc.abstractmethod\n",
    "    def func2(self):\n",
    "        pass\n",
    "    @abc.abstractmethod\n",
    "    def func3(self):\n",
    "        pass"
   ]
  },
  {
   "cell_type": "markdown",
   "id": "56aa92dc-c268-45d2-ad7d-67fd7f7670ae",
   "metadata": {},
   "source": [
    "The above class has a series of functions declared with no definations. Other classes can inherit this class and define the functions present in this class in their own manner as needed."
   ]
  },
  {
   "cell_type": "markdown",
   "id": "9a10de8c-d041-4d3c-9c7e-553fd804b268",
   "metadata": {},
   "source": [
    "# Q2. Differentiate between Abstraction and Encapsulation. Explain with an example."
   ]
  },
  {
   "cell_type": "markdown",
   "id": "548de80c-2e70-4550-a119-85185dd9ffcb",
   "metadata": {},
   "source": [
    "Abstraction: It is a property of OOPs which lets programmers hide unnecessary information or implementation from the end user and display only relevant features. An abstract class provides a skeleton/scheme for other classes to follow.\n",
    "\n",
    "Encapsulation: It is a property of OOPs which lets programmers bind together variables and the functions that act on these variables in the form of a class. These functions and variables can only be accessed using objects.\n",
    "\n",
    "Eg:"
   ]
  },
  {
   "cell_type": "code",
   "execution_count": 6,
   "id": "cd751b68-836c-4bbe-b4ab-5b865e901d58",
   "metadata": {},
   "outputs": [
    {
     "name": "stdout",
     "output_type": "stream",
     "text": [
      "Exterior Color: White\n",
      "Interior Color: Black\n"
     ]
    }
   ],
   "source": [
    "import abc\n",
    "class car:                           #Class with Abstract methods that have so defination.\n",
    "    @abc.abstractmethod\n",
    "    def exterior(self):\n",
    "        pass\n",
    "    @abc.abstractmethod\n",
    "    def interior(self):\n",
    "        pass\n",
    "class BMW(car):\n",
    "    def __init__(self,ex_color,in_color):\n",
    "        self.ex_color=ex_color\n",
    "        self.in_color=in_color\n",
    "    def exterior(self):\n",
    "        print(\"Exterior Color:\",self.ex_color)      #Class's Abstract methods defined.\n",
    "    def interior(self):\n",
    "        print(\"Interior Color:\",self.in_color)\n",
    "obj=BMW(\"White\",\"Black\")                           #Since classes are encapsulated, functions and variables can only be accessed via objects\n",
    "obj.exterior()\n",
    "obj.interior()"
   ]
  },
  {
   "cell_type": "markdown",
   "id": "28931080-bb14-4453-bfc8-ddc5dee0242e",
   "metadata": {},
   "source": [
    "# Q3. What is abc module in python? Why is it used?"
   ]
  },
  {
   "cell_type": "markdown",
   "id": "874e3782-87a0-4153-bee4-ff3fec64cfd3",
   "metadata": {},
   "source": [
    "ABC stands for Abstract Base Class. This module helps in implementing abstract classes in python.\n",
    "\n",
    "This module provides a decorator which is used to implement abstract methods. This decorator is:\n"
   ]
  },
  {
   "cell_type": "code",
   "execution_count": 8,
   "id": "8fb8a03c-32d6-435e-8801-3e8d3d3bc618",
   "metadata": {},
   "outputs": [],
   "source": [
    "# @abc.abstractmethod"
   ]
  },
  {
   "cell_type": "markdown",
   "id": "42d3dbd8-2b39-443d-83f4-dc6a5114f6e5",
   "metadata": {},
   "source": [
    "# Q4. How can we achieve data abstraction?"
   ]
  },
  {
   "cell_type": "markdown",
   "id": "69e2aec2-1616-469d-8d99-ff3719b69473",
   "metadata": {},
   "source": [
    "To achieve data abstraction, we can use abstract classes. These classes will only have the declaration of the functions we want other classes to have. Other classes can inherit this class and define the function declared in the abstract class. The functions' definations can differ depending on the purpose of the class. "
   ]
  },
  {
   "cell_type": "markdown",
   "id": "8950460f-d909-4646-a4d7-d652fa892790",
   "metadata": {},
   "source": [
    "# Q5. Can we create an instance of an abstract class? Explain your answer."
   ]
  },
  {
   "cell_type": "markdown",
   "id": "baee962f-7631-46ea-a354-88648dacb42b",
   "metadata": {},
   "source": [
    "Abstract classes cannot have an object. Consider the following example:"
   ]
  },
  {
   "cell_type": "code",
   "execution_count": 31,
   "id": "55b3cf08-e3fb-477b-8806-bb7a63e698d0",
   "metadata": {},
   "outputs": [],
   "source": [
    "from abc import *\n",
    "class abs_class(ABC):\n",
    "    def __init__(self, name):\n",
    "        self.name = name\n",
    "    @abc.abstractmethod\n",
    "    def something(self):\n",
    "        pass"
   ]
  },
  {
   "cell_type": "code",
   "execution_count": 32,
   "id": "8a07d427-6f1b-4549-823f-5fa4523143f9",
   "metadata": {},
   "outputs": [
    {
     "ename": "TypeError",
     "evalue": "Can't instantiate abstract class abs_class with abstract method something",
     "output_type": "error",
     "traceback": [
      "\u001b[0;31m---------------------------------------------------------------------------\u001b[0m",
      "\u001b[0;31mTypeError\u001b[0m                                 Traceback (most recent call last)",
      "Cell \u001b[0;32mIn[32], line 1\u001b[0m\n\u001b[0;32m----> 1\u001b[0m obj\u001b[38;5;241m=\u001b[39m\u001b[43mabs_class\u001b[49m\u001b[43m(\u001b[49m\u001b[38;5;124;43m'\u001b[39;49m\u001b[38;5;124;43mRishabh\u001b[39;49m\u001b[38;5;124;43m'\u001b[39;49m\u001b[43m)\u001b[49m\n",
      "\u001b[0;31mTypeError\u001b[0m: Can't instantiate abstract class abs_class with abstract method something"
     ]
    }
   ],
   "source": [
    "obj=abs_class('Rishabh')"
   ]
  }
 ],
 "metadata": {
  "kernelspec": {
   "display_name": "Python 3 (ipykernel)",
   "language": "python",
   "name": "python3"
  },
  "language_info": {
   "codemirror_mode": {
    "name": "ipython",
    "version": 3
   },
   "file_extension": ".py",
   "mimetype": "text/x-python",
   "name": "python",
   "nbconvert_exporter": "python",
   "pygments_lexer": "ipython3",
   "version": "3.10.8"
  }
 },
 "nbformat": 4,
 "nbformat_minor": 5
}

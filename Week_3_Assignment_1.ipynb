{
 "cells": [
  {
   "cell_type": "markdown",
   "id": "d25eac62-9d22-421b-a6bf-20c808fab45c",
   "metadata": {},
   "source": [
    "# Q1. Which keyword is used to create a function? Create a function to return a list of odd numbers in the range of 1 to 25."
   ]
  },
  {
   "cell_type": "markdown",
   "id": "e245b421-f9bb-453c-880d-3216ea2ee1dc",
   "metadata": {},
   "source": [
    "'def' keyword is used to create a function in python. The syntax is as follows:\n",
    "\n",
    "def function_name(arguments_if_needed):\n",
    "\n",
    "    code"
   ]
  },
  {
   "cell_type": "markdown",
   "id": "707fc0fb-194b-4114-a3f6-e1362e9ea832",
   "metadata": {},
   "source": [
    "Function that returns a list of odd numbers in the specified range:"
   ]
  },
  {
   "cell_type": "code",
   "execution_count": 6,
   "id": "4e1aa641-0908-4c3d-bdd6-78e3cc9b46f8",
   "metadata": {},
   "outputs": [
    {
     "data": {
      "text/plain": [
       "[1, 3, 5, 7, 9, 11, 13, 15, 17, 19, 21, 23, 25]"
      ]
     },
     "execution_count": 6,
     "metadata": {},
     "output_type": "execute_result"
    }
   ],
   "source": [
    "def odd_num():\n",
    "    l=[]\n",
    "    for i in range(1,26):\n",
    "        if i%2!=0:\n",
    "            l.append(i)\n",
    "    return l\n",
    "l=odd_num()\n",
    "l"
   ]
  },
  {
   "cell_type": "markdown",
   "id": "8199ac62-a657-41c6-b5e1-cc6b5bfe9f79",
   "metadata": {},
   "source": [
    "# Q2. Why *args and **kwargs is used in some functions? Create a function each for *args and **kwargs to demonstrate their use."
   ]
  },
  {
   "cell_type": "markdown",
   "id": "9d1435ad-9d51-44cb-a243-6371ae17749c",
   "metadata": {},
   "source": [
    "*args: These are also called non-keyword arguments. These are used when we do not have a specified number of arguments for a function. The number of arguments become dynamic. Eg:"
   ]
  },
  {
   "cell_type": "code",
   "execution_count": 7,
   "id": "a3ac49c1-218d-4e4a-b597-f0378604541f",
   "metadata": {},
   "outputs": [
    {
     "data": {
      "text/plain": [
       "15"
      ]
     },
     "execution_count": 7,
     "metadata": {},
     "output_type": "execute_result"
    }
   ],
   "source": [
    "def add(*args):\n",
    "    s=0\n",
    "    for i in args:\n",
    "         s+=i\n",
    "    return s\n",
    "s=add(1,2,3,4,5)\n",
    "s"
   ]
  },
  {
   "cell_type": "markdown",
   "id": "00647236-c391-4e6c-b10a-bc466de0b1d1",
   "metadata": {},
   "source": [
    "**kwargs: These are also called keyword arguments. These are used when we want to pass dynamic arguments as a dictionary. These are also used when we want to specify which argument corresponds to which parameter in the function. Eg:"
   ]
  },
  {
   "cell_type": "code",
   "execution_count": 17,
   "id": "6559c8ba-e082-4ade-b2d9-ef4ed9f6edb3",
   "metadata": {},
   "outputs": [
    {
     "data": {
      "text/plain": [
       "15"
      ]
     },
     "execution_count": 17,
     "metadata": {},
     "output_type": "execute_result"
    }
   ],
   "source": [
    "def add(**kwargs):\n",
    "    '''Parameters passed as a dictionary.'''\n",
    "    s=0\n",
    "    for i in kwargs.values():\n",
    "         s+=i\n",
    "    return s\n",
    "s=add(a=1,b=2,c=3,d=4,e=5)\n",
    "s"
   ]
  },
  {
   "cell_type": "code",
   "execution_count": 18,
   "id": "7cff05e3-8788-4382-b20d-59a01034a2a0",
   "metadata": {},
   "outputs": [
    {
     "data": {
      "text/plain": [
       "15"
      ]
     },
     "execution_count": 18,
     "metadata": {},
     "output_type": "execute_result"
    }
   ],
   "source": [
    "def add(a,b,c,d,e):\n",
    "    '''Parameter mapped with arguments even if they are in different order.'''\n",
    "    s=a+b+c+d+e\n",
    "    return s\n",
    "s=add(b=1,a=2,e=3,d=4,c=5)\n",
    "s"
   ]
  },
  {
   "cell_type": "markdown",
   "id": "762fd679-2cf7-46fd-808f-f779272d1894",
   "metadata": {},
   "source": [
    "# Q3. What is an iterator in python? Name the method used to initialise the iterator object and the method used for iteration. Use these methods to print the first five elements of the given list [2, 4, 6, 8, 10, 12, 14, 16, 18, 20]."
   ]
  },
  {
   "cell_type": "markdown",
   "id": "7b0543a4-c2b0-4274-984a-3297f7dd7c7d",
   "metadata": {},
   "source": [
    "An iterator in python is an object which is used to iterate or traverse over an iterable like a list or a tuple efficiently.\n",
    "\n",
    "Method for initializing an iterator: iter(iterable)\n",
    "\n",
    "Method for iteration using an iterator: next(iterator)\n",
    "\n",
    "Code asked:"
   ]
  },
  {
   "cell_type": "code",
   "execution_count": 20,
   "id": "0228d0d8-bd88-4a14-ab01-09d68f0b2b91",
   "metadata": {},
   "outputs": [
    {
     "name": "stdout",
     "output_type": "stream",
     "text": [
      "2\n",
      "4\n",
      "6\n",
      "8\n",
      "10\n"
     ]
    }
   ],
   "source": [
    "l=[x*2 for x in range(1,11)]\n",
    "iterator=iter(l)\n",
    "for i in range(5):\n",
    "    print(next(iterator))"
   ]
  },
  {
   "cell_type": "markdown",
   "id": "4cf4803c-ad2a-400c-9128-2adbf277ddb9",
   "metadata": {},
   "source": [
    "# Q4. What is a generator function in python? Why yield keyword is used? Give an example of a generator function."
   ]
  },
  {
   "cell_type": "markdown",
   "id": "89c64626-6242-429e-9c2a-52ab9329eb3e",
   "metadata": {},
   "source": [
    "A generator function is a function that is used in situations which demand an operation over each element of a sequence. In such situations, the output is returned as a list which can be increase memory utilization. To avoid this, generator function returns the output for each element of the sequence in question without storing it. \n",
    "\n",
    "'yield' keyword is used in generator functions. A generator functions returns a 'generator' object which acts as an iterator. Eg:"
   ]
  },
  {
   "cell_type": "code",
   "execution_count": 25,
   "id": "33831f30-c814-4810-89b5-80cbdb16e656",
   "metadata": {},
   "outputs": [
    {
     "name": "stdout",
     "output_type": "stream",
     "text": [
      "0 1 1 2 3 5 8 13 21 34 "
     ]
    }
   ],
   "source": [
    "def fibo():\n",
    "    a,b=0,1\n",
    "    while True:\n",
    "        yield a\n",
    "        a,b=b,a+b\n",
    "f=fibo()\n",
    "for i in range(10):\n",
    "    print(next(f),end=' ')"
   ]
  },
  {
   "cell_type": "markdown",
   "id": "b2c62426-5bdd-439f-8804-534b9deac38b",
   "metadata": {},
   "source": [
    "# Q5. Create a generator function for prime numbers less than 1000. Use the next() method to print the first 20 prime numbers."
   ]
  },
  {
   "cell_type": "code",
   "execution_count": 26,
   "id": "0feea7e8-d8de-4406-ada0-1ac146af7f27",
   "metadata": {},
   "outputs": [
    {
     "name": "stdout",
     "output_type": "stream",
     "text": [
      "2 3 5 7 11 13 17 19 23 29 31 37 41 43 47 53 59 61 67 71 "
     ]
    }
   ],
   "source": [
    "def prime_check():\n",
    "    i=2\n",
    "    while(i<1000):\n",
    "        counter=0\n",
    "        for j in range(2,i):\n",
    "            if(i%j==0):\n",
    "                counter+=1\n",
    "                break\n",
    "        if counter==0:\n",
    "            yield i\n",
    "        i+=1\n",
    "n=prime_check()\n",
    "for i in range(20):\n",
    "    print(next(n),end=\" \")"
   ]
  },
  {
   "cell_type": "markdown",
   "id": "d3aab3c1-8dc0-475e-bfb5-8bcc49b58b4c",
   "metadata": {},
   "source": [
    "# Q6. Write a python program to print the first 10 Fibonacci numbers using a while loop."
   ]
  },
  {
   "cell_type": "code",
   "execution_count": 27,
   "id": "10f721d3-801b-40f8-b1f6-e595f0be3c4e",
   "metadata": {},
   "outputs": [
    {
     "name": "stdout",
     "output_type": "stream",
     "text": [
      "0 1 1 2 3 5 8 13 21 34 "
     ]
    }
   ],
   "source": [
    "def fibo():\n",
    "    a,b=0,1\n",
    "    while True:\n",
    "        yield a\n",
    "        a,b=b,a+b\n",
    "f=fibo()\n",
    "for i in range(10):\n",
    "    print(next(f),end=' ')"
   ]
  },
  {
   "cell_type": "markdown",
   "id": "c66e70d7-0f65-44c4-837c-37b895860345",
   "metadata": {},
   "source": [
    "# Q7. Write a List Comprehension to iterate through the given string: ‘pwskills’. Expected output: ['p', 'w', 's', 'k', 'i', 'l', 'l', 's']"
   ]
  },
  {
   "cell_type": "code",
   "execution_count": 28,
   "id": "c83a5142-861f-46c8-8ec0-c5a360a362e3",
   "metadata": {},
   "outputs": [
    {
     "data": {
      "text/plain": [
       "['p', 'w', 's', 'k', 'i', 'l', 'l', 's']"
      ]
     },
     "execution_count": 28,
     "metadata": {},
     "output_type": "execute_result"
    }
   ],
   "source": [
    "s='pwskills'\n",
    "l=[x for x in s]\n",
    "l"
   ]
  },
  {
   "cell_type": "markdown",
   "id": "524e9f28-4722-43fb-bc84-1557066d1341",
   "metadata": {},
   "source": [
    "# Q8. Write a python program to check whether a given number is Palindrome or not using a while loop."
   ]
  },
  {
   "cell_type": "code",
   "execution_count": 34,
   "id": "551a80a5-ac47-4057-bd2e-abcc73dc1d78",
   "metadata": {},
   "outputs": [
    {
     "name": "stdin",
     "output_type": "stream",
     "text": [
      " 101\n"
     ]
    },
    {
     "name": "stdout",
     "output_type": "stream",
     "text": [
      "Palindrome\n"
     ]
    }
   ],
   "source": [
    "num=int(input())\n",
    "temp=num\n",
    "result=0\n",
    "counter=0\n",
    "while(temp):\n",
    "    result=result*10+temp%10\n",
    "    temp//=10\n",
    "if result==num:\n",
    "    print(\"Palindrome\")\n",
    "else:\n",
    "    print(\"Not Palindrome\")"
   ]
  },
  {
   "cell_type": "markdown",
   "id": "e20a4e98-3356-4d89-9113-f701cc8782bf",
   "metadata": {},
   "source": [
    "# Q9. Write a code to print odd numbers from 1 to 100 using list comprehension."
   ]
  },
  {
   "cell_type": "code",
   "execution_count": 37,
   "id": "37577f05-9707-428e-82dd-8236cd05f5e6",
   "metadata": {},
   "outputs": [
    {
     "name": "stdout",
     "output_type": "stream",
     "text": [
      "1 3 5 7 9 11 13 15 17 19 21 23 25 27 29 31 33 35 37 39 41 43 45 47 49 51 53 55 57 59 61 63 65 67 69 71 73 75 77 79 81 83 85 87 89 91 93 95 97 99 "
     ]
    }
   ],
   "source": [
    "l=[x for x in range(1,101) if x%2!=0]\n",
    "for i in l:\n",
    "    print(i, end=\" \")"
   ]
  }
 ],
 "metadata": {
  "kernelspec": {
   "display_name": "Python 3 (ipykernel)",
   "language": "python",
   "name": "python3"
  },
  "language_info": {
   "codemirror_mode": {
    "name": "ipython",
    "version": 3
   },
   "file_extension": ".py",
   "mimetype": "text/x-python",
   "name": "python",
   "nbconvert_exporter": "python",
   "pygments_lexer": "ipython3",
   "version": "3.10.8"
  }
 },
 "nbformat": 4,
 "nbformat_minor": 5
}

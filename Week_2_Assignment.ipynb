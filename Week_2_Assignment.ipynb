{
 "cells": [
  {
   "cell_type": "markdown",
   "id": "5271e5da-66f6-4abe-824c-3568d06ddfa7",
   "metadata": {},
   "source": [
    "# Q1. How do you comment code in Python? What are the different types of comments?"
   ]
  },
  {
   "cell_type": "markdown",
   "id": "6f630565-91b1-4f6f-b1ea-ac6fc9b3e6c3",
   "metadata": {},
   "source": [
    "In order to comment code in python, we can either use '#' before the code or encase the code in triple inverted commas (''' code ''').\n",
    "\n",
    "In python, there are two types of comments:\n",
    "1. Single Line Comments: For these, we can either use '#' or triple inverted commas.\n",
    "    Eg:"
   ]
  },
  {
   "cell_type": "code",
   "execution_count": 1,
   "id": "50eda986-3f31-4a6e-a3ae-9f11864afe5c",
   "metadata": {},
   "outputs": [],
   "source": [
    "#print(example)"
   ]
  },
  {
   "cell_type": "markdown",
   "id": "1885e715-8398-4ca4-8066-6f5b90490a2c",
   "metadata": {},
   "source": [
    "2. Multiple Line Comments: For these, we can only use triple inverted commas. Eg:"
   ]
  },
  {
   "cell_type": "code",
   "execution_count": 4,
   "id": "4872e9ae-9132-4a7a-b109-7af807bf2aad",
   "metadata": {},
   "outputs": [
    {
     "name": "stdout",
     "output_type": "stream",
     "text": [
      "Example3\n"
     ]
    }
   ],
   "source": [
    "'''\n",
    "print('Example1')\n",
    "print('Example2')\n",
    "'''\n",
    "print('Example3')"
   ]
  },
  {
   "cell_type": "markdown",
   "id": "b29d7fc6-383f-4d4f-bf19-0a8bb98dbdba",
   "metadata": {},
   "source": [
    "# Q2. What are variables in Python? How do you declare and assign values to variables?"
   ]
  },
  {
   "cell_type": "markdown",
   "id": "5447c2fa-5d16-4759-8a7f-e550b834890a",
   "metadata": {},
   "source": [
    "Variables are the named references to a memory location declared by the user. These variables are used to store some value in them so that it can be accessed whenever it is needed, provided the variable is in the scope of the code.\n",
    "\n",
    "Variables are declared by following the mentioned rules:\n",
    "1. Variable name cannot start with special characters, except '_'.\n",
    "2. Variable name cannot start with numbers.\n",
    "3. Variable name can start with alphabets.\n",
    "4. Variable name must not be same as a 'Keyword' predefined in python.\n",
    "\n",
    "Variables are assigned values using assignment operator '='.\n",
    "\n",
    "Eg of declaring and assigning value to a variable:"
   ]
  },
  {
   "cell_type": "code",
   "execution_count": 5,
   "id": "e8ee3b39-e2f7-44b8-a887-e0b248b058f8",
   "metadata": {},
   "outputs": [],
   "source": [
    "var1=\"Rishabh\""
   ]
  },
  {
   "cell_type": "markdown",
   "id": "425a558d-96cd-4a33-92aa-47b73311ee94",
   "metadata": {},
   "source": [
    "# Q3. How do you convert one data type to another in Python?"
   ]
  },
  {
   "cell_type": "markdown",
   "id": "87988050-4037-4e5e-bb37-03179e9a9470",
   "metadata": {},
   "source": [
    "Converting one data type to another is called typecasting. This is also called explicit type conversion. This is done by typing the desired data type name in followed a value or variable encased in parenthesis.\n",
    "\n",
    "Eg of typecasting: "
   ]
  },
  {
   "cell_type": "code",
   "execution_count": 8,
   "id": "144000f3-6222-4d4d-952d-96f2a32af835",
   "metadata": {},
   "outputs": [
    {
     "data": {
      "text/plain": [
       "str"
      ]
     },
     "execution_count": 8,
     "metadata": {},
     "output_type": "execute_result"
    }
   ],
   "source": [
    "var1=1\n",
    "var1=str(var1)\n",
    "type(var1)"
   ]
  },
  {
   "cell_type": "markdown",
   "id": "3ce4173c-34c3-4263-a58a-f6b48d7eaf51",
   "metadata": {},
   "source": [
    "# Q4. How do you write and execute a Python script from the command line?"
   ]
  },
  {
   "cell_type": "markdown",
   "id": "56a8040e-f7ed-4f10-a51b-80d430e1b9ac",
   "metadata": {},
   "source": [
    "To write in command line mode means line by line execution of the code. To do this, we simply need to have python installed in our machine. Then, we need to open command prompt and type 'python' and press enter. After this, we will be able to type python code that will be executed whenever we will move to the next line by pressing enter.\n",
    "\n",
    "To Execute a script from command line, we need to type the python followed by the name of the file with 'py' extension.\n",
    "\n",
    "Eg: python file.py"
   ]
  },
  {
   "cell_type": "markdown",
   "id": "c948faf5-f1aa-40ab-bc89-afc3479b9d8b",
   "metadata": {},
   "source": [
    "# Q5. Given a list my_list = [1, 2, 3, 4, 5], write the code to slice the list and obtain the sub-list [2, 3]."
   ]
  },
  {
   "cell_type": "code",
   "execution_count": 9,
   "id": "37baf794-5c98-4555-b098-e8a8ff39d3ec",
   "metadata": {},
   "outputs": [
    {
     "data": {
      "text/plain": [
       "[2, 3]"
      ]
     },
     "execution_count": 9,
     "metadata": {},
     "output_type": "execute_result"
    }
   ],
   "source": [
    "my_list=[1,2,3,4,5]\n",
    "my_list[1:3]"
   ]
  },
  {
   "cell_type": "markdown",
   "id": "7d9f4940-f9a4-4828-8362-aaea12f0711f",
   "metadata": {},
   "source": [
    "# Q6. What is a complex number in mathematics, and how is it represented in Python?"
   ]
  },
  {
   "cell_type": "markdown",
   "id": "b7f784ba-e2de-46e0-a768-aaaaf4b3d26c",
   "metadata": {},
   "source": [
    "A complex number is a number that can be represented in the form of a+bi where 'a' is the real part of the complex number and 'bi' is the imaginary part.\n",
    "\n",
    "In python, a complex number can only be represented in the form of a+bj. We cannot substitute 'j'.\n",
    "\n",
    "Eg of a complex number declaration and assignment:"
   ]
  },
  {
   "cell_type": "code",
   "execution_count": 10,
   "id": "f6b89ade-e708-45a6-a783-e445378b36b5",
   "metadata": {},
   "outputs": [
    {
     "data": {
      "text/plain": [
       "complex"
      ]
     },
     "execution_count": 10,
     "metadata": {},
     "output_type": "execute_result"
    }
   ],
   "source": [
    "var1=5+6j\n",
    "type(var1)"
   ]
  },
  {
   "cell_type": "markdown",
   "id": "48899685-4438-453e-8b10-23acce8ed2be",
   "metadata": {},
   "source": [
    "# Q7. What is the correct way to declare a variable named age and assign the value 25 to it?"
   ]
  },
  {
   "cell_type": "markdown",
   "id": "28195034-b38c-4667-b587-0552b695e5c0",
   "metadata": {},
   "source": [
    "Variables are declared by following the mentioned rules:\n",
    "1. Variable name cannot start with special characters, except '_'.\n",
    "2. Variable name cannot start with numbers.\n",
    "3. Variable name can start with alphabets.\n",
    "4. Variable name must not be same as a 'Keyword' predefined in python.\n",
    "\n",
    "Eg:"
   ]
  },
  {
   "cell_type": "code",
   "execution_count": 12,
   "id": "3d84f5e7-1cce-4235-9214-9441007c807c",
   "metadata": {},
   "outputs": [
    {
     "data": {
      "text/plain": [
       "25"
      ]
     },
     "execution_count": 12,
     "metadata": {},
     "output_type": "execute_result"
    }
   ],
   "source": [
    "age=25\n",
    "age"
   ]
  },
  {
   "cell_type": "markdown",
   "id": "75c6d27c-629a-4e68-b9c1-439c9b08347d",
   "metadata": {},
   "source": [
    "# Q8. Declare a variable named price and assign the value 9.99 to it. What data type does this variable belong to?"
   ]
  },
  {
   "cell_type": "code",
   "execution_count": 13,
   "id": "64aade41-dc46-4ba8-afa8-2fcaa14c14d8",
   "metadata": {},
   "outputs": [],
   "source": [
    "price=9.99"
   ]
  },
  {
   "cell_type": "markdown",
   "id": "5dafb915-f60d-4489-90a7-249632f70407",
   "metadata": {},
   "source": [
    "This variable's data type is:"
   ]
  },
  {
   "cell_type": "code",
   "execution_count": 14,
   "id": "e3f772ee-3dc2-4ef7-b69e-408bafb454e1",
   "metadata": {},
   "outputs": [
    {
     "data": {
      "text/plain": [
       "float"
      ]
     },
     "execution_count": 14,
     "metadata": {},
     "output_type": "execute_result"
    }
   ],
   "source": [
    "type(price)"
   ]
  },
  {
   "cell_type": "markdown",
   "id": "e653adff-90c8-4057-94f5-a5645b9c5c8d",
   "metadata": {},
   "source": [
    "# Q9. Create a variable named name and assign your full name to it as a string. How would you print the value of this variable?"
   ]
  },
  {
   "cell_type": "code",
   "execution_count": 15,
   "id": "0bff87e6-a4e9-404a-b89d-afffcfb5832f",
   "metadata": {},
   "outputs": [],
   "source": [
    "name=\"Rishabh\""
   ]
  },
  {
   "cell_type": "markdown",
   "id": "0d230648-873f-443c-ac40-e98a60a3bb52",
   "metadata": {},
   "source": [
    "To print the value stored:"
   ]
  },
  {
   "cell_type": "code",
   "execution_count": 16,
   "id": "e898b20c-6a0b-4bab-8f83-e1c283164978",
   "metadata": {},
   "outputs": [
    {
     "name": "stdout",
     "output_type": "stream",
     "text": [
      "Rishabh\n"
     ]
    }
   ],
   "source": [
    "print(name)"
   ]
  },
  {
   "cell_type": "markdown",
   "id": "aaeb2a4e-eb39-45dd-9c8e-3e2c7378d3df",
   "metadata": {},
   "source": [
    "# Q10. Given the string \"Hello, World!\", extract the substring \"World\"."
   ]
  },
  {
   "cell_type": "code",
   "execution_count": 23,
   "id": "b12d97eb-15e5-4851-9426-228a3020dc7b",
   "metadata": {},
   "outputs": [
    {
     "name": "stdout",
     "output_type": "stream",
     "text": [
      "World\n"
     ]
    }
   ],
   "source": [
    "s=\"Hello, World!\"\n",
    "for i in range(len(s)):\n",
    "    if s[i]=='W':\n",
    "        print(s[i:len(s)-1])\n",
    "        break"
   ]
  },
  {
   "cell_type": "markdown",
   "id": "a51ce02e-bde0-468d-a7f8-7b789aaf7547",
   "metadata": {},
   "source": [
    "# Q11. Create a variable named \"is_student\" and assign it a boolean value indicating whether you are currently a student or not."
   ]
  },
  {
   "cell_type": "code",
   "execution_count": null,
   "id": "4729fd10-1ca5-4dcd-9695-c5b24eb67751",
   "metadata": {},
   "outputs": [],
   "source": [
    "is_student=True"
   ]
  }
 ],
 "metadata": {
  "kernelspec": {
   "display_name": "Python 3 (ipykernel)",
   "language": "python",
   "name": "python3"
  },
  "language_info": {
   "codemirror_mode": {
    "name": "ipython",
    "version": 3
   },
   "file_extension": ".py",
   "mimetype": "text/x-python",
   "name": "python",
   "nbconvert_exporter": "python",
   "pygments_lexer": "ipython3",
   "version": "3.10.8"
  }
 },
 "nbformat": 4,
 "nbformat_minor": 5
}

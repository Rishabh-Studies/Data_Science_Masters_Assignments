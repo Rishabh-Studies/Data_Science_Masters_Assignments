{
 "cells": [
  {
   "cell_type": "markdown",
   "id": "8856624e-08cd-4405-a603-d9911152ee9d",
   "metadata": {},
   "source": [
    "# Q1. What is an Exception in python? Write the difference between Exceptions and Syntax Errors."
   ]
  },
  {
   "cell_type": "markdown",
   "id": "fabefde3-5531-4175-a3c4-f4c052bc0e52",
   "metadata": {},
   "source": [
    "Exception: An exception is an event that occurs during the execution of a program that distrupts the normal flow of the code's execution. If this exception is not handled, the program crashes.\n",
    "\n",
    "Exceptions vs Syntax Error:\n",
    "Exceptions are also called logical errors and they are undetected before getting executed. This is not true for Syntax Errors.\n",
    "\n",
    "Syntax Errors cannot be handled during run-time, unlike Exceptions.\n",
    "\n",
    "Eg of Syntax Error:"
   ]
  },
  {
   "cell_type": "code",
   "execution_count": 1,
   "id": "1ca61641-cc73-4111-bbd0-afea94cef4a8",
   "metadata": {},
   "outputs": [
    {
     "ename": "SyntaxError",
     "evalue": "cannot assign to literal here. Maybe you meant '==' instead of '='? (1478200518.py, line 1)",
     "output_type": "error",
     "traceback": [
      "\u001b[0;36m  Cell \u001b[0;32mIn[1], line 1\u001b[0;36m\u001b[0m\n\u001b[0;31m    1=x\u001b[0m\n\u001b[0m    ^\u001b[0m\n\u001b[0;31mSyntaxError\u001b[0m\u001b[0;31m:\u001b[0m cannot assign to literal here. Maybe you meant '==' instead of '='?\n"
     ]
    }
   ],
   "source": [
    "1=x"
   ]
  },
  {
   "cell_type": "markdown",
   "id": "600e1b62-4986-46e0-96f2-7171d73a0e29",
   "metadata": {},
   "source": [
    "Eg of Exception:"
   ]
  },
  {
   "cell_type": "code",
   "execution_count": 2,
   "id": "84d2272b-6a54-4953-9ed5-923f4d01abb6",
   "metadata": {},
   "outputs": [
    {
     "name": "stdout",
     "output_type": "stream",
     "text": [
      "Exception Occured: division by zero\n"
     ]
    }
   ],
   "source": [
    "try:\n",
    "    10/0\n",
    "except Exception as e:\n",
    "    print(\"Exception Occured:\",e)"
   ]
  },
  {
   "cell_type": "markdown",
   "id": "13d593ec-8f2d-4733-81f1-5654626d1ae2",
   "metadata": {},
   "source": [
    "# Q2. What happens when an exception is not handled? Explain with an example."
   ]
  },
  {
   "cell_type": "markdown",
   "id": "e1afcdb9-d57e-49a5-af90-ddc215bf2532",
   "metadata": {},
   "source": [
    "When an exception is not handled, the program crashes. Its execution halts at the line where exception occured. Eg:"
   ]
  },
  {
   "cell_type": "code",
   "execution_count": 3,
   "id": "df24e63c-b2b8-4204-b061-2e5c8fa7321d",
   "metadata": {},
   "outputs": [
    {
     "ename": "ZeroDivisionError",
     "evalue": "division by zero",
     "output_type": "error",
     "traceback": [
      "\u001b[0;31m---------------------------------------------------------------------------\u001b[0m",
      "\u001b[0;31mZeroDivisionError\u001b[0m                         Traceback (most recent call last)",
      "Cell \u001b[0;32mIn[3], line 1\u001b[0m\n\u001b[0;32m----> 1\u001b[0m \u001b[38;5;241;43m10\u001b[39;49m\u001b[38;5;241;43m/\u001b[39;49m\u001b[38;5;241;43m0\u001b[39;49m\n\u001b[1;32m      2\u001b[0m \u001b[38;5;28mprint\u001b[39m(\u001b[38;5;124m\"\u001b[39m\u001b[38;5;124mThis won\u001b[39m\u001b[38;5;124m'\u001b[39m\u001b[38;5;124mt execute.\u001b[39m\u001b[38;5;124m\"\u001b[39m)\n",
      "\u001b[0;31mZeroDivisionError\u001b[0m: division by zero"
     ]
    }
   ],
   "source": [
    "10/0\n",
    "print(\"This won't execute.\")"
   ]
  },
  {
   "cell_type": "markdown",
   "id": "6ae923b9-0705-4efa-823a-5d58aa97d8e4",
   "metadata": {},
   "source": [
    "# Q3. Which python statements are used to catch and handle exceptions? Explain with an example."
   ]
  },
  {
   "cell_type": "code",
   "execution_count": 4,
   "id": "f8eacb50-9f89-4078-9a9f-8ba5e11e72c5",
   "metadata": {},
   "outputs": [
    {
     "name": "stdout",
     "output_type": "stream",
     "text": [
      "Exception Caught: name 'Var' is not defined\n"
     ]
    }
   ],
   "source": [
    "# Try and Except statements are used to catch and handle exceptions.\n",
    "var=5\n",
    "try:   #Used for catching exceptions\n",
    "    print(Var)\n",
    "except NameError as e:   #Used for handling exceptions\n",
    "    print(\"Exception Caught:\",e)"
   ]
  },
  {
   "cell_type": "markdown",
   "id": "a91f0c4b-b042-4b4a-921b-7a6386b58b93",
   "metadata": {},
   "source": [
    "# Q4. Explain with an example:"
   ]
  },
  {
   "cell_type": "markdown",
   "id": "7249325c-ed4d-4b0a-be08-a427c0331c94",
   "metadata": {},
   "source": [
    "1. try and except: Statements used to catch and handle exceptions."
   ]
  },
  {
   "cell_type": "code",
   "execution_count": 5,
   "id": "e9d837aa-806b-4d63-ae0b-169cfd23d36a",
   "metadata": {},
   "outputs": [
    {
     "name": "stdout",
     "output_type": "stream",
     "text": [
      "Exception Caught: [Errno 2] No such file or directory: 'abc.txt'\n"
     ]
    }
   ],
   "source": [
    "try:\n",
    "    with open(\"abc.txt\",'r') as f:\n",
    "        print(f.read())\n",
    "except FileNotFoundError as e:\n",
    "    print(\"Exception Caught:\",e)"
   ]
  },
  {
   "cell_type": "markdown",
   "id": "a4ef555f-ab68-4ec8-9bf2-644e1a97872a",
   "metadata": {},
   "source": [
    "2. finally: Code written under this statement is always executed irrespective of the condition that try and catch block was able to handle the exception or not."
   ]
  },
  {
   "cell_type": "code",
   "execution_count": 6,
   "id": "f03f409c-54c0-4f30-bf07-279113c2558f",
   "metadata": {},
   "outputs": [
    {
     "name": "stdout",
     "output_type": "stream",
     "text": [
      "Exception Caught: [Errno 2] No such file or directory: 'abc.txt'\n",
      "Always executed no matter what condition.\n"
     ]
    }
   ],
   "source": [
    "try:\n",
    "    with open(\"abc.txt\",'r') as f:\n",
    "        print(f.read())\n",
    "except FileNotFoundError as e:\n",
    "    print(\"Exception Caught:\",e)\n",
    "finally:\n",
    "    print(\"Always executed no matter what condition.\")"
   ]
  },
  {
   "cell_type": "markdown",
   "id": "6e92db76-0cfd-4aee-935c-d42021927254",
   "metadata": {},
   "source": [
    "3. raise: statement that is used to force the occurence of an execution. Mainly used for creating user-defined exceptions."
   ]
  },
  {
   "cell_type": "code",
   "execution_count": 7,
   "id": "e8e25f43-8f5b-4157-b6fb-3ceda110df19",
   "metadata": {},
   "outputs": [
    {
     "name": "stdout",
     "output_type": "stream",
     "text": [
      "a is negative.\n"
     ]
    }
   ],
   "source": [
    "class myException(Exception):\n",
    "    def __init__(self,msg):\n",
    "        self.msg=msg\n",
    "try:\n",
    "    a=-1\n",
    "    if(a<0):\n",
    "        raise myException(\"a is negative.\")\n",
    "except myException as e:\n",
    "    print(e)"
   ]
  },
  {
   "cell_type": "markdown",
   "id": "093ebbf2-56b1-4444-94b3-ee942f42f80f",
   "metadata": {},
   "source": [
    "# Q5. What are custom exceptions in python? Why do we need custom exceptions? Explain with an example. "
   ]
  },
  {
   "cell_type": "markdown",
   "id": "fefe4212-34a1-4581-a2fb-c54196a280c6",
   "metadata": {},
   "source": [
    "Custom exceptions in python are also called user-defined exceptions. They are made using the 'raise' keyword which forcefully triggers an exception.\n",
    "\n",
    "We need custom exceptions because there are situations when we want the user to enter valid data which might not be invalid according to python."
   ]
  },
  {
   "cell_type": "code",
   "execution_count": 9,
   "id": "d95c7504-7ba2-43ab-8935-da8dcc7707dc",
   "metadata": {},
   "outputs": [
    {
     "name": "stdout",
     "output_type": "stream",
     "text": [
      "Rishabh is banned!!\n"
     ]
    }
   ],
   "source": [
    "name=\"Rishabh\"\n",
    "age=22\n",
    "try:\n",
    "    if(name==\"Rishabh\"):\n",
    "        raise NameError(\"Rishabh is banned!!\")\n",
    "except NameError as e:\n",
    "    print(e)"
   ]
  },
  {
   "cell_type": "markdown",
   "id": "432d85d6-125f-4297-bb70-a9314aa0df68",
   "metadata": {},
   "source": [
    "# Q6. Create a custom exception class. Use this class to handle an exception."
   ]
  },
  {
   "cell_type": "code",
   "execution_count": 10,
   "id": "9965c6cb-76e3-4ffa-9760-9fc64205185b",
   "metadata": {},
   "outputs": [
    {
     "name": "stdout",
     "output_type": "stream",
     "text": [
      "a is negative.\n"
     ]
    }
   ],
   "source": [
    "class myException(Exception):\n",
    "    def __init__(self,msg):\n",
    "        self.msg=msg\n",
    "try:\n",
    "    a=-1\n",
    "    if(a<0):\n",
    "        raise myException(\"a is negative.\")\n",
    "except myException as e:\n",
    "    print(e)"
   ]
  }
 ],
 "metadata": {
  "kernelspec": {
   "display_name": "Python 3 (ipykernel)",
   "language": "python",
   "name": "python3"
  },
  "language_info": {
   "codemirror_mode": {
    "name": "ipython",
    "version": 3
   },
   "file_extension": ".py",
   "mimetype": "text/x-python",
   "name": "python",
   "nbconvert_exporter": "python",
   "pygments_lexer": "ipython3",
   "version": "3.10.8"
  }
 },
 "nbformat": 4,
 "nbformat_minor": 5
}

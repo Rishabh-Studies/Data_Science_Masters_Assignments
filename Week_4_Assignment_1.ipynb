{
 "cells": [
  {
   "cell_type": "markdown",
   "id": "a015264d-2f7a-4d64-a85c-d3e008085801",
   "metadata": {},
   "source": [
    "# Q1. Explain Class and Object with respect to Object-Oriented Programming. Give a suitable example."
   ]
  },
  {
   "cell_type": "markdown",
   "id": "c0685dd9-4aa7-46de-bfc0-9580bbdf8ba6",
   "metadata": {},
   "source": [
    "Class: A class is a blueprint or prototype for an object. A class is used to implement real world entities like encapsulation, inheritence, abstraction and polymorphism in programming. A class is a collection of data members (variables) and member functions (methods) which have been binded together."
   ]
  },
  {
   "cell_type": "markdown",
   "id": "0be7487a-01dc-4b07-9db7-4caea441a643",
   "metadata": {},
   "source": [
    "Object: An object is an instance of a class. An object is created from a class and follows the behaviour and state mentioned in it's respective class. An object is used to access the data in the class.\n",
    "\n",
    "Eg:"
   ]
  },
  {
   "cell_type": "code",
   "execution_count": 2,
   "id": "cfe4cabf-3c52-48c4-82c5-44b9c1d5cf6b",
   "metadata": {},
   "outputs": [
    {
     "name": "stdout",
     "output_type": "stream",
     "text": [
      "Object Accessed a Function\n"
     ]
    }
   ],
   "source": [
    "class Test:                   #Class declaration\n",
    "    def func(self):\n",
    "        print(\"Object Accessed a Function\")\n",
    "t=Test()                      #Object for class Test Created\n",
    "t.func()"
   ]
  },
  {
   "cell_type": "markdown",
   "id": "ce3dc798-27f7-4461-a4dc-01af1e29ef5c",
   "metadata": {},
   "source": [
    "# Q2. Name the four pillars of OOPs."
   ]
  },
  {
   "cell_type": "markdown",
   "id": "5d590658-f4b9-40bc-90d3-d46914d9bbeb",
   "metadata": {},
   "source": [
    "1) Encapsulation\n",
    "2) Polymorphism\n",
    "3) Abstraction\n",
    "4) Inheritence"
   ]
  },
  {
   "cell_type": "markdown",
   "id": "5edc2ba2-2ade-4af2-a617-5cb406de5709",
   "metadata": {},
   "source": [
    "# Q3. Explain why the __ init __ () function is used. Give a suitable example."
   ]
  },
  {
   "cell_type": "markdown",
   "id": "b26660c3-949c-4ec9-8b76-199feb1caa9a",
   "metadata": {},
   "source": [
    "__ init __ is a magic/dunder function. It is used as a constructor for a class in python. It is used to initialize the instance variables for an object. \n",
    "\n",
    "Eg:"
   ]
  },
  {
   "cell_type": "code",
   "execution_count": 12,
   "id": "578da86c-5428-4058-adc8-30f76f1b3161",
   "metadata": {},
   "outputs": [],
   "source": [
    "class test:\n",
    "    def __init__(self, first_name, sir_name):\n",
    "        self.firstname=first_name\n",
    "        self.sirname=sir_name\n",
    "    def __str__(self):\n",
    "        return '{} {}'.format(self.firstname,self.sirname)"
   ]
  },
  {
   "cell_type": "code",
   "execution_count": 13,
   "id": "ccac80b6-7657-47ea-a401-fb99236d0650",
   "metadata": {},
   "outputs": [
    {
     "name": "stdout",
     "output_type": "stream",
     "text": [
      "Rishabh Chandra\n"
     ]
    }
   ],
   "source": [
    "obj=test('Rishabh','Chandra')\n",
    "print(obj)"
   ]
  },
  {
   "cell_type": "markdown",
   "id": "bb79330a-16f2-4d04-90c3-824383607b72",
   "metadata": {},
   "source": [
    "# Q4. Why self is used in OOPs?"
   ]
  },
  {
   "cell_type": "markdown",
   "id": "291baaf7-580c-440a-b26e-d20c28deea8a",
   "metadata": {},
   "source": [
    "'self' is the first parameter that is passed in any instance function declared inside a class by convention. 'self' is used as a pointer which points to the correct instance of the class. It binds together the class and the object. Other variables may be used for this instead of 'self' as well."
   ]
  },
  {
   "cell_type": "markdown",
   "id": "26fe52ac-dd60-4e0d-92f1-65d25fbadbcd",
   "metadata": {},
   "source": [
    "# Q5. What is inheritance? Give an example for each type of inheritance."
   ]
  },
  {
   "cell_type": "markdown",
   "id": "38bfd44a-3b52-4714-a3e4-b0fd86bb4190",
   "metadata": {},
   "source": [
    "Inheritance is the property of a class to inherit or access the properites of another class. Using inheritance, a class can use the data members and functions present in another class, thus making the code more reusable. \n",
    "\n",
    "There are 5 types of inheritance:\n",
    "1) Simple/One-to-One Inheritance"
   ]
  },
  {
   "cell_type": "code",
   "execution_count": 15,
   "id": "522a879d-1068-4791-b03e-2d9e3a2a8d4d",
   "metadata": {},
   "outputs": [
    {
     "name": "stdout",
     "output_type": "stream",
     "text": [
      "I am parent function\n"
     ]
    }
   ],
   "source": [
    "class parent:\n",
    "    def func1(self):\n",
    "        print('I am parent function')\n",
    "class child(parent):\n",
    "    def func2(self):\n",
    "        print('I am child function')\n",
    "obj=child()\n",
    "obj.func1()"
   ]
  },
  {
   "cell_type": "markdown",
   "id": "cbb429c9-6257-4319-81d4-a83c486d4018",
   "metadata": {},
   "source": [
    "2. Multilevel Inheritance"
   ]
  },
  {
   "cell_type": "code",
   "execution_count": 17,
   "id": "d224bf41-1bb6-4c7b-b992-29d14b97f6c8",
   "metadata": {},
   "outputs": [
    {
     "name": "stdout",
     "output_type": "stream",
     "text": [
      "I am super parent function\n",
      "I am parent function\n"
     ]
    }
   ],
   "source": [
    "class super_parent:\n",
    "    def func1(self):\n",
    "        print(\"I am super parent function\")\n",
    "class parent(super_parent):\n",
    "    def func2(self):\n",
    "        print('I am parent function')\n",
    "class child(parent):\n",
    "    def func3(self):\n",
    "        print('I am child function')\n",
    "obj=child()\n",
    "obj.func1()\n",
    "obj.func2()"
   ]
  },
  {
   "cell_type": "markdown",
   "id": "f965de50-7364-4967-91eb-2f4a842642fe",
   "metadata": {},
   "source": [
    "3. Multiple Inheritance"
   ]
  },
  {
   "cell_type": "code",
   "execution_count": 19,
   "id": "9aebffc8-9047-4fcb-8a5f-e700410f6e63",
   "metadata": {},
   "outputs": [
    {
     "name": "stdout",
     "output_type": "stream",
     "text": [
      "Father's genes\n",
      "Mother's genes\n"
     ]
    }
   ],
   "source": [
    "class father:\n",
    "    def func1(self):\n",
    "        print('Father\\'s genes')\n",
    "class mother:\n",
    "    def func2(self):\n",
    "        print('Mother\\'s genes')\n",
    "class child(father,mother):\n",
    "    pass\n",
    "obj=child()\n",
    "obj.func1()\n",
    "obj.func2()"
   ]
  },
  {
   "cell_type": "markdown",
   "id": "baab0365-e6b5-4bfe-9a70-946092990f43",
   "metadata": {},
   "source": [
    "4. Hierarchical Inheritance"
   ]
  },
  {
   "cell_type": "code",
   "execution_count": 21,
   "id": "dba9dac2-9d27-46d3-b1a2-704fc0024803",
   "metadata": {},
   "outputs": [
    {
     "name": "stdout",
     "output_type": "stream",
     "text": [
      "Parent Function\n",
      "Parent Function\n"
     ]
    }
   ],
   "source": [
    "class parent:\n",
    "    def func1(self):\n",
    "        print(\"Parent Function\")\n",
    "class child1(parent):\n",
    "    pass\n",
    "class child2(parent):\n",
    "    pass\n",
    "obj1=child1()\n",
    "obj2=child2()\n",
    "obj1.func1()\n",
    "obj2.func1()"
   ]
  },
  {
   "cell_type": "markdown",
   "id": "7414afdb-9518-4c26-99e5-1605b4918ebd",
   "metadata": {},
   "source": [
    "5. Hybrid Inheritance"
   ]
  },
  {
   "cell_type": "code",
   "execution_count": 22,
   "id": "53dfd565-1100-4ac7-82a2-ebcd576f1011",
   "metadata": {},
   "outputs": [
    {
     "name": "stdout",
     "output_type": "stream",
     "text": [
      "Parent Function\n",
      "Super Parent Function\n"
     ]
    }
   ],
   "source": [
    "class super_parent:\n",
    "    def func1(self):\n",
    "        print(\"Super Parent Function\")\n",
    "class parent(super_parent):\n",
    "    def func2(self):\n",
    "        print(\"Parent Function\")\n",
    "class sibling1(parent):\n",
    "    pass\n",
    "class sibling2(parent):\n",
    "    pass\n",
    "obj1=sibling1()\n",
    "obj2=sibling2()\n",
    "obj1.func2()\n",
    "obj2.func1()"
   ]
  }
 ],
 "metadata": {
  "kernelspec": {
   "display_name": "Python 3 (ipykernel)",
   "language": "python",
   "name": "python3"
  },
  "language_info": {
   "codemirror_mode": {
    "name": "ipython",
    "version": 3
   },
   "file_extension": ".py",
   "mimetype": "text/x-python",
   "name": "python",
   "nbconvert_exporter": "python",
   "pygments_lexer": "ipython3",
   "version": "3.10.8"
  }
 },
 "nbformat": 4,
 "nbformat_minor": 5
}
